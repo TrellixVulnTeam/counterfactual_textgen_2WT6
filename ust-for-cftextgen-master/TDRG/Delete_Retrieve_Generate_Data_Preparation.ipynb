{
 "cells": [
  {
   "cell_type": "code",
   "execution_count": 1,
   "metadata": {},
   "outputs": [],
   "source": [
    "from tqdm import tqdm, trange\n",
    "import numpy as np"
   ]
  },
  {
   "cell_type": "code",
   "execution_count": 8,
   "metadata": {},
   "outputs": [],
   "source": [
    "def process_file(input_file, output_file):\n",
    "    \"\"\"\n",
    "    The function process the data files for Delete & Generate and convert\n",
    "    it for the Delete, Retrieve and Generate training by separating the content\n",
    "    and attributes. It includes all the attribure words.\n",
    "    \n",
    "    Input_file: string : Path of the input file\n",
    "    Output_file: string : Path of the output file \n",
    "    \"\"\"\n",
    "    max_atts = -1   #diego added to prevent errors\n",
    "    \n",
    "    with open(input_file) as fp:\n",
    "        data = fp.read().splitlines()\n",
    "    with open (output_file,\"w\") as out_fp:\n",
    "        for x in tqdm(data):\n",
    "            temp = x.split(\"<START>\")\n",
    "            con = temp[0].replace(\"<POS>\",\"\").replace(\"<NEG>\",\"\").replace(\"<CON_START>\",\"\")\n",
    "            sen = temp[1].replace(\"<END>\",\"\")\n",
    "            lt1 = con.split()\n",
    "            lt2 = sen.split()\n",
    "            att_tokens = [z for z in lt2 if z not in lt1]\n",
    "            if len(att_tokens) > max_atts:\n",
    "                max_atts = len(att_tokens)\n",
    "            att_words = \" \".join(att_tokens)\n",
    "            out_str = \"<ATTR_WORDS> \" + att_words + \" <CON_START> \" + con.strip() + \" <START> \" + sen.strip() + \" <END>\" + \"\\n\"\n",
    "            out_fp.write(out_str)\n",
    "    "
   ]
  },
  {
   "cell_type": "code",
   "execution_count": 9,
   "metadata": {},
   "outputs": [],
   "source": [
    "def process_file_v1(input_file, output_file):\n",
    "    \"\"\"\n",
    "    The function process the data files for Delete & Generate and convert\n",
    "    it for the Delete, Retrieve and Generate training by separating the content\n",
    "    and attributes. It randomly picks 70% of the attributes only to make the generation\n",
    "    more realistic instead of just filling the blanks, which helps while generating\n",
    "    sentences for test cases.\n",
    "    \n",
    "    Input_file: string : Path of the input file\n",
    "    Output_file: string : Path of the output file \n",
    "    \"\"\"\n",
    "    with open(input_file) as fp:\n",
    "        data = fp.read().splitlines()\n",
    "    with open (output_file,\"w\") as out_fp:\n",
    "        for x in tqdm(data):\n",
    "            temp = x.split(\"<START>\")\n",
    "            con = temp[0].replace(\"<POS>\",\"\").replace(\"<NEG>\",\"\").replace(\"<CON_START>\",\"\")\n",
    "            sen = temp[1].replace(\"<END>\",\"\")\n",
    "            lt1 = con.split()\n",
    "            lt2 = sen.split()\n",
    "            att_words = [z for z in lt2 if z not in lt1]\n",
    "            #print(att_words)\n",
    "            \n",
    "            if len(att_words) > 2:\n",
    "                indx = np.array(list(range(len(att_words))))\n",
    "                np.random.shuffle(indx)\n",
    "                att_words = \" \".join([att_words[indx[k]] for k in range(int(0.7 * len(att_words)))])\n",
    "            else: # If attributes less than 2 then keep all the attributes\n",
    "                att_words = \" \".join(att_words)\n",
    "            #print(att_words)\n",
    "            out_str = \"<ATTR_WORDS> \" + att_words + \" <CON_START> \" + con.strip() + \" <START> \" + sen.strip() + \" <END>\" + \"\\n\"\n",
    "            out_fp.write(out_str)"
   ]
  },
  {
   "cell_type": "code",
   "execution_count": 12,
   "metadata": {},
   "outputs": [
    {
     "name": "stdout",
     "output_type": "stream",
     "text": [
      "delete_retrieve_edit_model  sentiment_dev_0.txt   sentiment_test_1.txt\n",
      "reference_0.txt\t\t    sentiment_dev_1.txt   sentiment_train_0.txt\n",
      "reference_1.txt\t\t    sentiment_test_0.txt  sentiment_train_1.txt\n"
     ]
    }
   ],
   "source": [
    "#1st. make dir data/yelp/processed_files_with_bert_with_best_head/delete_retrieve_edit_model  for task\n",
    "#!cd data/amazon/processed_files_with_bert_with_best_head/; mkdir delete_retrieve_edit_model; \n",
    "!cd data/amazon/processed_files_with_bert_with_best_head/; ls; "
   ]
  },
  {
   "cell_type": "code",
   "execution_count": 13,
   "metadata": {},
   "outputs": [],
   "source": [
    "!cd data/amazon/processed_files_with_bert_with_best_head/; cat sentiment_train_0.txt sentiment_train_1.txt > sentiment_train.txt\n",
    "!cd data/amazon/processed_files_with_bert_with_best_head/; cat sentiment_dev_0.txt sentiment_dev_1.txt > sentiment_dev.txt\n",
    "!cd data/amazon/processed_files_with_bert_with_best_head/; cat sentiment_test_0.txt sentiment_test_1.txt > sentiment_test.txt"
   ]
  },
  {
   "cell_type": "code",
   "execution_count": 10,
   "metadata": {},
   "outputs": [],
   "source": [
    "#2nd. set task \n",
    "#task = \"yelp\"  \n",
    "#task = \"imagecaption\"\n",
    "task = \"amazon\"\n",
    "data_dir = \"data/\"+task+\"/processed_files_with_bert_with_best_head/\""
   ]
  },
  {
   "cell_type": "code",
   "execution_count": 14,
   "metadata": {},
   "outputs": [
    {
     "name": "stderr",
     "output_type": "stream",
     "text": [
      "100%|██████████| 554997/554997 [00:03<00:00, 161354.83it/s]\n",
      "100%|██████████| 277228/277228 [00:01<00:00, 150861.47it/s]\n",
      "100%|██████████| 277769/277769 [00:01<00:00, 163126.33it/s]\n"
     ]
    }
   ],
   "source": [
    "#cat sentiment_train_0.txt sentiment_train_1.txt > sentiment_train.txt\n",
    "process_file(data_dir+\"sentiment_train.txt\",data_dir+\"delete_retrieve_edit_model/sentiment_train_all_attrs.txt\")\n",
    "process_file(data_dir+\"sentiment_train_1.txt\",data_dir+\"delete_retrieve_edit_model/sentiment_train_1_all_attrs.txt\")\n",
    "process_file(data_dir+\"sentiment_train_0.txt\",data_dir+\"delete_retrieve_edit_model/sentiment_train_0_all_attrs.txt\")"
   ]
  },
  {
   "cell_type": "code",
   "execution_count": 15,
   "metadata": {},
   "outputs": [
    {
     "name": "stderr",
     "output_type": "stream",
     "text": [
      "100%|██████████| 1000/1000 [00:00<00:00, 65522.69it/s]\n",
      "100%|██████████| 500/500 [00:00<00:00, 72460.51it/s]\n",
      "100%|██████████| 500/500 [00:00<00:00, 77500.07it/s]\n"
     ]
    }
   ],
   "source": [
    "#cat sentiment_test_0.txt sentiment_test_1.txt > sentiment_test.txt\n",
    "process_file(data_dir+\"sentiment_test.txt\",data_dir+\"delete_retrieve_edit_model/sentiment_test_all_attrs.txt\")\n",
    "process_file(data_dir+\"sentiment_test_1.txt\",data_dir+\"delete_retrieve_edit_model/sentiment_test_1_all_attrs.txt\")\n",
    "process_file(data_dir+\"sentiment_test_0.txt\",data_dir+\"delete_retrieve_edit_model/sentiment_test_0_all_attrs.txt\")"
   ]
  },
  {
   "cell_type": "code",
   "execution_count": 16,
   "metadata": {},
   "outputs": [
    {
     "name": "stderr",
     "output_type": "stream",
     "text": [
      "100%|██████████| 2000/2000 [00:00<00:00, 61150.37it/s]\n",
      "100%|██████████| 1015/1015 [00:00<00:00, 66765.24it/s]\n",
      "100%|██████████| 985/985 [00:00<00:00, 75728.89it/s]\n"
     ]
    }
   ],
   "source": [
    "#cat sentiment_dev_0.txt sentiment_dev_1.txt > sentiment_dev.txt\n",
    "process_file(data_dir+\"sentiment_dev.txt\",data_dir+\"delete_retrieve_edit_model/sentiment_dev_all_attrs.txt\")\n",
    "process_file(data_dir+\"sentiment_dev_0.txt\",data_dir+\"delete_retrieve_edit_model/sentiment_dev_1_all_attrs.txt\")\n",
    "process_file(data_dir+\"sentiment_dev_1.txt\",data_dir+\"delete_retrieve_edit_model/sentiment_dev_0_all_attrs.txt\")"
   ]
  },
  {
   "cell_type": "code",
   "execution_count": 18,
   "metadata": {},
   "outputs": [
    {
     "name": "stderr",
     "output_type": "stream",
     "text": [
      "100%|██████████| 554997/554997 [00:05<00:00, 96641.18it/s] \n",
      "100%|██████████| 277228/277228 [00:02<00:00, 97415.44it/s]\n",
      "100%|██████████| 277769/277769 [00:02<00:00, 95053.72it/s]\n"
     ]
    }
   ],
   "source": [
    "process_file_v1(data_dir+\"sentiment_train.txt\",data_dir+\"delete_retrieve_edit_model/sentiment_train.txt\")\n",
    "process_file_v1(data_dir+\"sentiment_train_1.txt\",data_dir+\"delete_retrieve_edit_model/sentiment_train_1.txt\")\n",
    "process_file_v1(data_dir+\"sentiment_train_0.txt\",data_dir+\"delete_retrieve_edit_model/sentiment_train_0.txt\")"
   ]
  },
  {
   "cell_type": "code",
   "execution_count": 19,
   "metadata": {},
   "outputs": [
    {
     "name": "stderr",
     "output_type": "stream",
     "text": [
      "100%|██████████| 1000/1000 [00:00<00:00, 103044.03it/s]\n",
      "100%|██████████| 500/500 [00:00<00:00, 110359.00it/s]\n",
      "100%|██████████| 500/500 [00:00<00:00, 98397.79it/s]\n"
     ]
    }
   ],
   "source": [
    "process_file_v1(data_dir+\"sentiment_test.txt\",data_dir+\"delete_retrieve_edit_model/sentiment_test.txt\")\n",
    "process_file_v1(data_dir+\"sentiment_test_1.txt\",data_dir+\"delete_retrieve_edit_model/sentiment_test_1.txt\")\n",
    "process_file_v1(data_dir+\"sentiment_test_0.txt\",data_dir+\"delete_retrieve_edit_model/sentiment_test_0.txt\")"
   ]
  },
  {
   "cell_type": "code",
   "execution_count": 20,
   "metadata": {},
   "outputs": [
    {
     "name": "stderr",
     "output_type": "stream",
     "text": [
      "100%|██████████| 2000/2000 [00:00<00:00, 86698.58it/s]\n",
      "100%|██████████| 1015/1015 [00:00<00:00, 87663.83it/s]\n",
      "100%|██████████| 985/985 [00:00<00:00, 89474.37it/s]\n"
     ]
    }
   ],
   "source": [
    "process_file_v1(data_dir+\"sentiment_dev.txt\",data_dir+\"delete_retrieve_edit_model/sentiment_dev.txt\")\n",
    "process_file_v1(data_dir+\"sentiment_dev_0.txt\",data_dir+\"delete_retrieve_edit_model/sentiment_dev_1.txt\")\n",
    "process_file_v1(data_dir+\"sentiment_dev_1.txt\",data_dir+\"delete_retrieve_edit_model/sentiment_dev_0.txt\")"
   ]
  },
  {
   "cell_type": "code",
   "execution_count": null,
   "metadata": {},
   "outputs": [],
   "source": []
  },
  {
   "cell_type": "code",
   "execution_count": null,
   "metadata": {},
   "outputs": [],
   "source": []
  }
 ],
 "metadata": {
  "kernelspec": {
   "display_name": "Python 3",
   "language": "python",
   "name": "python3"
  },
  "language_info": {
   "codemirror_mode": {
    "name": "ipython",
    "version": 3
   },
   "file_extension": ".py",
   "mimetype": "text/x-python",
   "name": "python",
   "nbconvert_exporter": "python",
   "pygments_lexer": "ipython3",
   "version": "3.7.4"
  }
 },
 "nbformat": 4,
 "nbformat_minor": 4
}
